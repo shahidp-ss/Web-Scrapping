{
 "cells": [
  {
   "cell_type": "code",
   "execution_count": 104,
   "metadata": {},
   "outputs": [],
   "source": [
    "import numpy as np\n",
    "import pandas as pd \n",
    "import re\n",
    "import requests\n",
    "import matplotlib.pyplot as plt\n",
    "from bs4 import BeautifulSoup\n",
    "import warnings\n",
    "warnings.filterwarnings('ignore')\n",
    "import seaborn as sns\n",
    "import time \n",
    "from IPython.core.interactiveshell import InteractiveShell\n",
    "InteractiveShell.ast_node_interactively='all'"
   ]
  },
  {
   "cell_type": "code",
   "execution_count": 105,
   "metadata": {},
   "outputs": [],
   "source": [
    "df1=pd.read_csv('mobiledata.csv')"
   ]
  },
  {
   "cell_type": "code",
   "execution_count": 106,
   "metadata": {
    "scrolled": true
   },
   "outputs": [
    {
     "data": {
      "text/html": [
       "<div>\n",
       "<style scoped>\n",
       "    .dataframe tbody tr th:only-of-type {\n",
       "        vertical-align: middle;\n",
       "    }\n",
       "\n",
       "    .dataframe tbody tr th {\n",
       "        vertical-align: top;\n",
       "    }\n",
       "\n",
       "    .dataframe thead th {\n",
       "        text-align: right;\n",
       "    }\n",
       "</style>\n",
       "<table border=\"1\" class=\"dataframe\">\n",
       "  <thead>\n",
       "    <tr style=\"text-align: right;\">\n",
       "      <th></th>\n",
       "      <th>Unnamed: 0</th>\n",
       "      <th>Product Name</th>\n",
       "      <th>OfferPrice</th>\n",
       "      <th>OrignalPrice</th>\n",
       "      <th>Discount</th>\n",
       "      <th>Ratings</th>\n",
       "      <th>Brand</th>\n",
       "      <th>Color</th>\n",
       "      <th>RamSize</th>\n",
       "      <th>Storage</th>\n",
       "      <th>Expandable Storage</th>\n",
       "      <th>Screen Size</th>\n",
       "      <th>Display</th>\n",
       "      <th>RearCamera</th>\n",
       "      <th>FrontCamera</th>\n",
       "      <th>battery</th>\n",
       "      <th>Processor</th>\n",
       "    </tr>\n",
       "  </thead>\n",
       "  <tbody>\n",
       "    <tr>\n",
       "      <th>0</th>\n",
       "      <td>0</td>\n",
       "      <td>REDMI 9i (Midnight Black, 64 GB)</td>\n",
       "      <td>₹7,999</td>\n",
       "      <td>₹9,999</td>\n",
       "      <td>20% off</td>\n",
       "      <td>4.3</td>\n",
       "      <td>REDMI</td>\n",
       "      <td>(Midnight Black,</td>\n",
       "      <td>4 GB RAM</td>\n",
       "      <td>64 GB ROM</td>\n",
       "      <td>Expandable Upto 512 GB</td>\n",
       "      <td>16.59 cm</td>\n",
       "      <td>HD+ Display</td>\n",
       "      <td>13MP']</td>\n",
       "      <td>['5MP</td>\n",
       "      <td>5000 mAh</td>\n",
       "      <td>MediaTek Helio G25 Processor']</td>\n",
       "    </tr>\n",
       "    <tr>\n",
       "      <th>1</th>\n",
       "      <td>1</td>\n",
       "      <td>REDMI 9i (Sea Blue, 64 GB)</td>\n",
       "      <td>₹7,999</td>\n",
       "      <td>₹9,999</td>\n",
       "      <td>20% off</td>\n",
       "      <td>4.3</td>\n",
       "      <td>REDMI</td>\n",
       "      <td>(Sea Blue,</td>\n",
       "      <td>4 GB RAM</td>\n",
       "      <td>64 GB ROM</td>\n",
       "      <td>Expandable Upto 512 GB</td>\n",
       "      <td>16.59 cm</td>\n",
       "      <td>HD+ Display</td>\n",
       "      <td>13MP']</td>\n",
       "      <td>['5MP</td>\n",
       "      <td>5000 mAh</td>\n",
       "      <td>MediaTek Helio G25 Processor']</td>\n",
       "    </tr>\n",
       "    <tr>\n",
       "      <th>2</th>\n",
       "      <td>2</td>\n",
       "      <td>POCO M3 (Cool Blue, 64 GB)</td>\n",
       "      <td>₹10,999</td>\n",
       "      <td>₹12,999</td>\n",
       "      <td>15% off</td>\n",
       "      <td>4.3</td>\n",
       "      <td>POCO</td>\n",
       "      <td>(Cool Blue,</td>\n",
       "      <td>6 GB RAM</td>\n",
       "      <td>64 GB ROM</td>\n",
       "      <td>Expandable Upto 512 GB</td>\n",
       "      <td>16.59 cm</td>\n",
       "      <td>Full HD+ Display</td>\n",
       "      <td>48MP']</td>\n",
       "      <td>['8MP</td>\n",
       "      <td>6000 mAh</td>\n",
       "      <td>Qualcomm Snapdragon 662 Processor']</td>\n",
       "    </tr>\n",
       "    <tr>\n",
       "      <th>3</th>\n",
       "      <td>3</td>\n",
       "      <td>REDMI 9i (Nature Green, 64 GB)</td>\n",
       "      <td>₹7,999</td>\n",
       "      <td>₹9,999</td>\n",
       "      <td>20% off</td>\n",
       "      <td>4.3</td>\n",
       "      <td>REDMI</td>\n",
       "      <td>(Nature Green,</td>\n",
       "      <td>4 GB RAM</td>\n",
       "      <td>64 GB ROM</td>\n",
       "      <td>Expandable Upto 512 GB</td>\n",
       "      <td>16.59 cm</td>\n",
       "      <td>HD+ Display</td>\n",
       "      <td>13MP']</td>\n",
       "      <td>['5MP</td>\n",
       "      <td>5000 mAh</td>\n",
       "      <td>MediaTek Helio G25 Processor']</td>\n",
       "    </tr>\n",
       "    <tr>\n",
       "      <th>4</th>\n",
       "      <td>4</td>\n",
       "      <td>realme C20 (Cool Blue, 32 GB)</td>\n",
       "      <td>₹6,799</td>\n",
       "      <td>₹7,999</td>\n",
       "      <td>15% off</td>\n",
       "      <td>4.5</td>\n",
       "      <td>realme</td>\n",
       "      <td>(Cool Blue,</td>\n",
       "      <td>2 GB RAM</td>\n",
       "      <td>32 GB ROM</td>\n",
       "      <td>Expandable Upto 256 GB</td>\n",
       "      <td>16.51 cm</td>\n",
       "      <td>HD+ Display</td>\n",
       "      <td>8MP']</td>\n",
       "      <td>['5MP</td>\n",
       "      <td>5000 mAh</td>\n",
       "      <td>MediaTek Helio G35 Processor']</td>\n",
       "    </tr>\n",
       "  </tbody>\n",
       "</table>\n",
       "</div>"
      ],
      "text/plain": [
       "   Unnamed: 0                      Product Name OfferPrice OrignalPrice  \\\n",
       "0           0  REDMI 9i (Midnight Black, 64 GB)     ₹7,999       ₹9,999   \n",
       "1           1        REDMI 9i (Sea Blue, 64 GB)     ₹7,999       ₹9,999   \n",
       "2           2        POCO M3 (Cool Blue, 64 GB)    ₹10,999      ₹12,999   \n",
       "3           3    REDMI 9i (Nature Green, 64 GB)     ₹7,999       ₹9,999   \n",
       "4           4     realme C20 (Cool Blue, 32 GB)     ₹6,799       ₹7,999   \n",
       "\n",
       "  Discount  Ratings   Brand             Color   RamSize    Storage  \\\n",
       "0  20% off      4.3   REDMI  (Midnight Black,  4 GB RAM  64 GB ROM   \n",
       "1  20% off      4.3   REDMI        (Sea Blue,  4 GB RAM  64 GB ROM   \n",
       "2  15% off      4.3    POCO       (Cool Blue,  6 GB RAM  64 GB ROM   \n",
       "3  20% off      4.3   REDMI    (Nature Green,  4 GB RAM  64 GB ROM   \n",
       "4  15% off      4.5  realme       (Cool Blue,  2 GB RAM  32 GB ROM   \n",
       "\n",
       "       Expandable Storage Screen Size           Display RearCamera  \\\n",
       "0  Expandable Upto 512 GB    16.59 cm       HD+ Display     13MP']   \n",
       "1  Expandable Upto 512 GB    16.59 cm       HD+ Display     13MP']   \n",
       "2  Expandable Upto 512 GB    16.59 cm  Full HD+ Display     48MP']   \n",
       "3  Expandable Upto 512 GB    16.59 cm       HD+ Display     13MP']   \n",
       "4  Expandable Upto 256 GB    16.51 cm       HD+ Display      8MP']   \n",
       "\n",
       "  FrontCamera    battery                            Processor  \n",
       "0      ['5MP   5000 mAh        MediaTek Helio G25 Processor']  \n",
       "1      ['5MP   5000 mAh        MediaTek Helio G25 Processor']  \n",
       "2      ['8MP   6000 mAh   Qualcomm Snapdragon 662 Processor']  \n",
       "3      ['5MP   5000 mAh        MediaTek Helio G25 Processor']  \n",
       "4      ['5MP   5000 mAh        MediaTek Helio G35 Processor']  "
      ]
     },
     "execution_count": 106,
     "metadata": {},
     "output_type": "execute_result"
    }
   ],
   "source": [
    "df1.head()"
   ]
  },
  {
   "cell_type": "code",
   "execution_count": null,
   "metadata": {},
   "outputs": [],
   "source": []
  },
  {
   "cell_type": "code",
   "execution_count": null,
   "metadata": {},
   "outputs": [],
   "source": []
  },
  {
   "cell_type": "code",
   "execution_count": 107,
   "metadata": {},
   "outputs": [],
   "source": [
    "df1['OfferPrice'] = df1['OfferPrice'].apply(lambda x:x.replace('₹','').replace(',','')).astype(float)"
   ]
  },
  {
   "cell_type": "code",
   "execution_count": 108,
   "metadata": {
    "scrolled": false
   },
   "outputs": [
    {
     "data": {
      "text/plain": [
       "0       7999.0\n",
       "1       7999.0\n",
       "2      10999.0\n",
       "3       7999.0\n",
       "4       6799.0\n",
       "        ...   \n",
       "643     9999.0\n",
       "644     9999.0\n",
       "645     8999.0\n",
       "646    15499.0\n",
       "647    13499.0\n",
       "Name: OfferPrice, Length: 648, dtype: float64"
      ]
     },
     "execution_count": 108,
     "metadata": {},
     "output_type": "execute_result"
    }
   ],
   "source": [
    "df1['OfferPrice']"
   ]
  },
  {
   "cell_type": "code",
   "execution_count": 109,
   "metadata": {},
   "outputs": [],
   "source": [
    "df1['OrignalPrice'] = df1['OrignalPrice'].apply(lambda x:x.replace('₹','').replace(',','')).astype(float)"
   ]
  },
  {
   "cell_type": "code",
   "execution_count": 110,
   "metadata": {},
   "outputs": [
    {
     "data": {
      "text/plain": [
       "0       9999.0\n",
       "1       9999.0\n",
       "2      12999.0\n",
       "3       9999.0\n",
       "4       7999.0\n",
       "        ...   \n",
       "643    10999.0\n",
       "644    10999.0\n",
       "645     9999.0\n",
       "646    20999.0\n",
       "647    17999.0\n",
       "Name: OrignalPrice, Length: 648, dtype: float64"
      ]
     },
     "execution_count": 110,
     "metadata": {},
     "output_type": "execute_result"
    }
   ],
   "source": [
    "df1['OrignalPrice']"
   ]
  },
  {
   "cell_type": "code",
   "execution_count": 111,
   "metadata": {},
   "outputs": [
    {
     "name": "stdout",
     "output_type": "stream",
     "text": [
      "<class 'pandas.core.frame.DataFrame'>\n",
      "RangeIndex: 648 entries, 0 to 647\n",
      "Data columns (total 17 columns):\n",
      " #   Column              Non-Null Count  Dtype  \n",
      "---  ------              --------------  -----  \n",
      " 0   Unnamed: 0          648 non-null    int64  \n",
      " 1   Product Name        648 non-null    object \n",
      " 2   OfferPrice          648 non-null    float64\n",
      " 3   OrignalPrice        648 non-null    float64\n",
      " 4   Discount            648 non-null    object \n",
      " 5   Ratings             648 non-null    float64\n",
      " 6   Brand               648 non-null    object \n",
      " 7   Color               648 non-null    object \n",
      " 8   RamSize             648 non-null    object \n",
      " 9   Storage             648 non-null    object \n",
      " 10  Expandable Storage  648 non-null    object \n",
      " 11  Screen Size         648 non-null    object \n",
      " 12  Display             648 non-null    object \n",
      " 13  RearCamera          648 non-null    object \n",
      " 14  FrontCamera         648 non-null    object \n",
      " 15  battery             648 non-null    object \n",
      " 16  Processor           648 non-null    object \n",
      "dtypes: float64(3), int64(1), object(13)\n",
      "memory usage: 86.2+ KB\n"
     ]
    }
   ],
   "source": [
    "df1.info()"
   ]
  },
  {
   "cell_type": "code",
   "execution_count": 112,
   "metadata": {},
   "outputs": [],
   "source": [
    "df1['Display'] = df1['Display'].apply(lambda x:x.replace('Full HD+ Display','0').replace('HD+ Display','1'))"
   ]
  },
  {
   "cell_type": "code",
   "execution_count": 113,
   "metadata": {},
   "outputs": [
    {
     "data": {
      "text/plain": [
       "0      1\n",
       "1      1\n",
       "2      0\n",
       "3      1\n",
       "4      1\n",
       "      ..\n",
       "643    1\n",
       "644    1\n",
       "645    1\n",
       "646    0\n",
       "647    0\n",
       "Name: Display, Length: 648, dtype: object"
      ]
     },
     "execution_count": 113,
     "metadata": {},
     "output_type": "execute_result"
    }
   ],
   "source": [
    "df1['Display']"
   ]
  },
  {
   "cell_type": "code",
   "execution_count": 114,
   "metadata": {},
   "outputs": [],
   "source": [
    "df1['Color']=df1['Color'].apply(lambda x:x.replace('(','').replace(',',''))"
   ]
  },
  {
   "cell_type": "code",
   "execution_count": 115,
   "metadata": {
    "scrolled": true
   },
   "outputs": [
    {
     "data": {
      "text/plain": [
       "0      Midnight Black\n",
       "1            Sea Blue\n",
       "2           Cool Blue\n",
       "3        Nature Green\n",
       "4           Cool Blue\n",
       "            ...      \n",
       "643        Laser Blue\n",
       "644       Laser Black\n",
       "645       Laser Black\n",
       "646         Mist Blue\n",
       "647         Mist Blue\n",
       "Name: Color, Length: 648, dtype: object"
      ]
     },
     "execution_count": 115,
     "metadata": {},
     "output_type": "execute_result"
    }
   ],
   "source": [
    "df1['Color']"
   ]
  },
  {
   "cell_type": "code",
   "execution_count": 116,
   "metadata": {},
   "outputs": [],
   "source": [
    "df1['RearCamera']=df1['RearCamera'].apply(lambda x:x.replace('','').replace(']',''))"
   ]
  },
  {
   "cell_type": "code",
   "execution_count": 117,
   "metadata": {},
   "outputs": [
    {
     "data": {
      "text/plain": [
       "0      13MP'\n",
       "1      13MP'\n",
       "2      48MP'\n",
       "3      13MP'\n",
       "4       8MP'\n",
       "       ...  \n",
       "643    13MP'\n",
       "644    13MP'\n",
       "645    13MP'\n",
       "646    64MP'\n",
       "647    64MP'\n",
       "Name: RearCamera, Length: 648, dtype: object"
      ]
     },
     "execution_count": 117,
     "metadata": {},
     "output_type": "execute_result"
    }
   ],
   "source": [
    "df1['RearCamera']"
   ]
  },
  {
   "cell_type": "code",
   "execution_count": 118,
   "metadata": {},
   "outputs": [],
   "source": [
    "df1['FrontCamera']=df1['FrontCamera'].apply(lambda x:x.replace('','').replace('[',''))"
   ]
  },
  {
   "cell_type": "code",
   "execution_count": 119,
   "metadata": {
    "scrolled": false
   },
   "outputs": [
    {
     "data": {
      "text/plain": [
       "0      '5MP \n",
       "1      '5MP \n",
       "2      '8MP \n",
       "3      '5MP \n",
       "4      '5MP \n",
       "       ...  \n",
       "643    '8MP \n",
       "644    '8MP \n",
       "645    '8MP \n",
       "646    '16MP\n",
       "647    '16MP\n",
       "Name: FrontCamera, Length: 648, dtype: object"
      ]
     },
     "execution_count": 119,
     "metadata": {},
     "output_type": "execute_result"
    }
   ],
   "source": [
    "df1['FrontCamera']"
   ]
  },
  {
   "cell_type": "code",
   "execution_count": 120,
   "metadata": {},
   "outputs": [],
   "source": [
    "df1['Processor']=df1['Processor'].apply(lambda x:x.replace('','').replace(']',''))"
   ]
  },
  {
   "cell_type": "code",
   "execution_count": null,
   "metadata": {},
   "outputs": [],
   "source": []
  },
  {
   "cell_type": "code",
   "execution_count": 121,
   "metadata": {},
   "outputs": [],
   "source": [
    "regex = r'\\d+'\n",
    "df1['FrontCamera'] = df1['FrontCamera'].apply(lambda x:re.compile(regex).findall(x))"
   ]
  },
  {
   "cell_type": "code",
   "execution_count": 122,
   "metadata": {
    "scrolled": true
   },
   "outputs": [
    {
     "data": {
      "text/plain": [
       "0       [5]\n",
       "1       [5]\n",
       "2       [8]\n",
       "3       [5]\n",
       "4       [5]\n",
       "       ... \n",
       "643     [8]\n",
       "644     [8]\n",
       "645     [8]\n",
       "646    [16]\n",
       "647    [16]\n",
       "Name: FrontCamera, Length: 648, dtype: object"
      ]
     },
     "execution_count": 122,
     "metadata": {},
     "output_type": "execute_result"
    }
   ],
   "source": [
    "df1['FrontCamera']"
   ]
  },
  {
   "cell_type": "code",
   "execution_count": 123,
   "metadata": {},
   "outputs": [],
   "source": [
    "regex = r'\\d+'\n",
    "df1['RearCamera'] = df1['RearCamera'].apply(lambda x:re.compile(regex).findall(x))"
   ]
  },
  {
   "cell_type": "code",
   "execution_count": 124,
   "metadata": {},
   "outputs": [
    {
     "data": {
      "text/plain": [
       "0      [13]\n",
       "1      [13]\n",
       "2      [48]\n",
       "3      [13]\n",
       "4       [8]\n",
       "       ... \n",
       "643    [13]\n",
       "644    [13]\n",
       "645    [13]\n",
       "646    [64]\n",
       "647    [64]\n",
       "Name: RearCamera, Length: 648, dtype: object"
      ]
     },
     "execution_count": 124,
     "metadata": {},
     "output_type": "execute_result"
    }
   ],
   "source": [
    "df1['RearCamera']"
   ]
  },
  {
   "cell_type": "code",
   "execution_count": 125,
   "metadata": {},
   "outputs": [],
   "source": [
    "regex = r'\\d+'\n",
    "df1['RamSize'] = df1['RamSize'].apply(lambda x:re.compile(regex).findall(x))"
   ]
  },
  {
   "cell_type": "code",
   "execution_count": 126,
   "metadata": {},
   "outputs": [
    {
     "data": {
      "text/plain": [
       "0      [4]\n",
       "1      [4]\n",
       "2      [6]\n",
       "3      [4]\n",
       "4      [2]\n",
       "      ... \n",
       "643    [4]\n",
       "644    [4]\n",
       "645    [3]\n",
       "646    [8]\n",
       "647    [6]\n",
       "Name: RamSize, Length: 648, dtype: object"
      ]
     },
     "execution_count": 126,
     "metadata": {},
     "output_type": "execute_result"
    }
   ],
   "source": [
    "df1['RamSize']"
   ]
  },
  {
   "cell_type": "code",
   "execution_count": 127,
   "metadata": {},
   "outputs": [],
   "source": [
    "regex = r'\\d+'\n",
    "df1['Storage'] = df1['Storage'].apply(lambda x:re.compile(regex).findall(x))"
   ]
  },
  {
   "cell_type": "code",
   "execution_count": 128,
   "metadata": {},
   "outputs": [
    {
     "data": {
      "text/plain": [
       "0       [64]\n",
       "1       [64]\n",
       "2       [64]\n",
       "3       [64]\n",
       "4       [32]\n",
       "       ...  \n",
       "643     [64]\n",
       "644     [64]\n",
       "645     [32]\n",
       "646    [128]\n",
       "647     [64]\n",
       "Name: Storage, Length: 648, dtype: object"
      ]
     },
     "execution_count": 128,
     "metadata": {},
     "output_type": "execute_result"
    }
   ],
   "source": [
    "df1['Storage']"
   ]
  },
  {
   "cell_type": "code",
   "execution_count": 129,
   "metadata": {},
   "outputs": [],
   "source": [
    "regex = r'\\d+'\n",
    "df1['Expandable Storage'] = df1['Expandable Storage'].apply(lambda x:re.compile(regex).findall(x))"
   ]
  },
  {
   "cell_type": "code",
   "execution_count": 130,
   "metadata": {},
   "outputs": [
    {
     "data": {
      "text/plain": [
       "0      [512]\n",
       "1      [512]\n",
       "2      [512]\n",
       "3      [512]\n",
       "4      [256]\n",
       "       ...  \n",
       "643    [256]\n",
       "644    [256]\n",
       "645    [256]\n",
       "646    [256]\n",
       "647    [256]\n",
       "Name: Expandable Storage, Length: 648, dtype: object"
      ]
     },
     "execution_count": 130,
     "metadata": {},
     "output_type": "execute_result"
    }
   ],
   "source": [
    "df1['Expandable Storage']"
   ]
  },
  {
   "cell_type": "code",
   "execution_count": 131,
   "metadata": {},
   "outputs": [],
   "source": [
    "regex = r'\\d+'\n",
    "df1['battery'] = df1['battery'].apply(lambda x:re.compile(regex).findall(x))"
   ]
  },
  {
   "cell_type": "code",
   "execution_count": 132,
   "metadata": {},
   "outputs": [
    {
     "data": {
      "text/plain": [
       "0      [5000]\n",
       "1      [5000]\n",
       "2      [6000]\n",
       "3      [5000]\n",
       "4      [5000]\n",
       "        ...  \n",
       "643    [6000]\n",
       "644    [6000]\n",
       "645    [6000]\n",
       "646    [5000]\n",
       "647    [5000]\n",
       "Name: battery, Length: 648, dtype: object"
      ]
     },
     "execution_count": 132,
     "metadata": {},
     "output_type": "execute_result"
    }
   ],
   "source": [
    "df1['battery']"
   ]
  },
  {
   "cell_type": "code",
   "execution_count": 133,
   "metadata": {},
   "outputs": [],
   "source": [
    "regex = r'\\d+.\\d+'\n",
    "df1['Screen Size'] = df1['Screen Size'].apply(lambda x:re.compile(regex).findall(x))"
   ]
  },
  {
   "cell_type": "code",
   "execution_count": 134,
   "metadata": {
    "scrolled": true
   },
   "outputs": [
    {
     "data": {
      "text/plain": [
       "0      [16.59]\n",
       "1      [16.59]\n",
       "2      [16.59]\n",
       "3      [16.59]\n",
       "4      [16.51]\n",
       "        ...   \n",
       "643    [16.54]\n",
       "644    [16.54]\n",
       "645    [16.54]\n",
       "646    [16.51]\n",
       "647    [16.51]\n",
       "Name: Screen Size, Length: 648, dtype: object"
      ]
     },
     "execution_count": 134,
     "metadata": {},
     "output_type": "execute_result"
    }
   ],
   "source": [
    "df1['Screen Size']"
   ]
  },
  {
   "cell_type": "code",
   "execution_count": 148,
   "metadata": {},
   "outputs": [],
   "source": [
    "regex = r'\\d+'\n",
    "df1['Discount'] = df1['Discount'].apply(lambda x:re.compile(regex).findall(x))"
   ]
  },
  {
   "cell_type": "code",
   "execution_count": 149,
   "metadata": {},
   "outputs": [],
   "source": [
    "df1['Discount']=df1['Discount'].apply(lambda x:''.join(x))"
   ]
  },
  {
   "cell_type": "code",
   "execution_count": 135,
   "metadata": {},
   "outputs": [
    {
     "data": {
      "text/html": [
       "<div>\n",
       "<style scoped>\n",
       "    .dataframe tbody tr th:only-of-type {\n",
       "        vertical-align: middle;\n",
       "    }\n",
       "\n",
       "    .dataframe tbody tr th {\n",
       "        vertical-align: top;\n",
       "    }\n",
       "\n",
       "    .dataframe thead th {\n",
       "        text-align: right;\n",
       "    }\n",
       "</style>\n",
       "<table border=\"1\" class=\"dataframe\">\n",
       "  <thead>\n",
       "    <tr style=\"text-align: right;\">\n",
       "      <th></th>\n",
       "      <th>Unnamed: 0</th>\n",
       "      <th>Product Name</th>\n",
       "      <th>OfferPrice</th>\n",
       "      <th>OrignalPrice</th>\n",
       "      <th>Discount</th>\n",
       "      <th>Ratings</th>\n",
       "      <th>Brand</th>\n",
       "      <th>Color</th>\n",
       "      <th>RamSize</th>\n",
       "      <th>Storage</th>\n",
       "      <th>Expandable Storage</th>\n",
       "      <th>Screen Size</th>\n",
       "      <th>Display</th>\n",
       "      <th>RearCamera</th>\n",
       "      <th>FrontCamera</th>\n",
       "      <th>battery</th>\n",
       "      <th>Processor</th>\n",
       "    </tr>\n",
       "  </thead>\n",
       "  <tbody>\n",
       "    <tr>\n",
       "      <th>0</th>\n",
       "      <td>0</td>\n",
       "      <td>REDMI 9i (Midnight Black, 64 GB)</td>\n",
       "      <td>7999.0</td>\n",
       "      <td>9999.0</td>\n",
       "      <td>20% off</td>\n",
       "      <td>4.3</td>\n",
       "      <td>REDMI</td>\n",
       "      <td>Midnight Black</td>\n",
       "      <td>[4]</td>\n",
       "      <td>[64]</td>\n",
       "      <td>[512]</td>\n",
       "      <td>[16.59]</td>\n",
       "      <td>1</td>\n",
       "      <td>[13]</td>\n",
       "      <td>[5]</td>\n",
       "      <td>[5000]</td>\n",
       "      <td>MediaTek Helio G25 Processor'</td>\n",
       "    </tr>\n",
       "    <tr>\n",
       "      <th>1</th>\n",
       "      <td>1</td>\n",
       "      <td>REDMI 9i (Sea Blue, 64 GB)</td>\n",
       "      <td>7999.0</td>\n",
       "      <td>9999.0</td>\n",
       "      <td>20% off</td>\n",
       "      <td>4.3</td>\n",
       "      <td>REDMI</td>\n",
       "      <td>Sea Blue</td>\n",
       "      <td>[4]</td>\n",
       "      <td>[64]</td>\n",
       "      <td>[512]</td>\n",
       "      <td>[16.59]</td>\n",
       "      <td>1</td>\n",
       "      <td>[13]</td>\n",
       "      <td>[5]</td>\n",
       "      <td>[5000]</td>\n",
       "      <td>MediaTek Helio G25 Processor'</td>\n",
       "    </tr>\n",
       "    <tr>\n",
       "      <th>2</th>\n",
       "      <td>2</td>\n",
       "      <td>POCO M3 (Cool Blue, 64 GB)</td>\n",
       "      <td>10999.0</td>\n",
       "      <td>12999.0</td>\n",
       "      <td>15% off</td>\n",
       "      <td>4.3</td>\n",
       "      <td>POCO</td>\n",
       "      <td>Cool Blue</td>\n",
       "      <td>[6]</td>\n",
       "      <td>[64]</td>\n",
       "      <td>[512]</td>\n",
       "      <td>[16.59]</td>\n",
       "      <td>0</td>\n",
       "      <td>[48]</td>\n",
       "      <td>[8]</td>\n",
       "      <td>[6000]</td>\n",
       "      <td>Qualcomm Snapdragon 662 Processor'</td>\n",
       "    </tr>\n",
       "    <tr>\n",
       "      <th>3</th>\n",
       "      <td>3</td>\n",
       "      <td>REDMI 9i (Nature Green, 64 GB)</td>\n",
       "      <td>7999.0</td>\n",
       "      <td>9999.0</td>\n",
       "      <td>20% off</td>\n",
       "      <td>4.3</td>\n",
       "      <td>REDMI</td>\n",
       "      <td>Nature Green</td>\n",
       "      <td>[4]</td>\n",
       "      <td>[64]</td>\n",
       "      <td>[512]</td>\n",
       "      <td>[16.59]</td>\n",
       "      <td>1</td>\n",
       "      <td>[13]</td>\n",
       "      <td>[5]</td>\n",
       "      <td>[5000]</td>\n",
       "      <td>MediaTek Helio G25 Processor'</td>\n",
       "    </tr>\n",
       "    <tr>\n",
       "      <th>4</th>\n",
       "      <td>4</td>\n",
       "      <td>realme C20 (Cool Blue, 32 GB)</td>\n",
       "      <td>6799.0</td>\n",
       "      <td>7999.0</td>\n",
       "      <td>15% off</td>\n",
       "      <td>4.5</td>\n",
       "      <td>realme</td>\n",
       "      <td>Cool Blue</td>\n",
       "      <td>[2]</td>\n",
       "      <td>[32]</td>\n",
       "      <td>[256]</td>\n",
       "      <td>[16.51]</td>\n",
       "      <td>1</td>\n",
       "      <td>[8]</td>\n",
       "      <td>[5]</td>\n",
       "      <td>[5000]</td>\n",
       "      <td>MediaTek Helio G35 Processor'</td>\n",
       "    </tr>\n",
       "  </tbody>\n",
       "</table>\n",
       "</div>"
      ],
      "text/plain": [
       "   Unnamed: 0                      Product Name  OfferPrice  OrignalPrice  \\\n",
       "0           0  REDMI 9i (Midnight Black, 64 GB)      7999.0        9999.0   \n",
       "1           1        REDMI 9i (Sea Blue, 64 GB)      7999.0        9999.0   \n",
       "2           2        POCO M3 (Cool Blue, 64 GB)     10999.0       12999.0   \n",
       "3           3    REDMI 9i (Nature Green, 64 GB)      7999.0        9999.0   \n",
       "4           4     realme C20 (Cool Blue, 32 GB)      6799.0        7999.0   \n",
       "\n",
       "  Discount  Ratings   Brand           Color RamSize Storage  \\\n",
       "0  20% off      4.3   REDMI  Midnight Black     [4]    [64]   \n",
       "1  20% off      4.3   REDMI        Sea Blue     [4]    [64]   \n",
       "2  15% off      4.3    POCO       Cool Blue     [6]    [64]   \n",
       "3  20% off      4.3   REDMI    Nature Green     [4]    [64]   \n",
       "4  15% off      4.5  realme       Cool Blue     [2]    [32]   \n",
       "\n",
       "  Expandable Storage Screen Size Display RearCamera FrontCamera battery  \\\n",
       "0              [512]     [16.59]       1       [13]         [5]  [5000]   \n",
       "1              [512]     [16.59]       1       [13]         [5]  [5000]   \n",
       "2              [512]     [16.59]       0       [48]         [8]  [6000]   \n",
       "3              [512]     [16.59]       1       [13]         [5]  [5000]   \n",
       "4              [256]     [16.51]       1        [8]         [5]  [5000]   \n",
       "\n",
       "                            Processor  \n",
       "0       MediaTek Helio G25 Processor'  \n",
       "1       MediaTek Helio G25 Processor'  \n",
       "2  Qualcomm Snapdragon 662 Processor'  \n",
       "3       MediaTek Helio G25 Processor'  \n",
       "4       MediaTek Helio G35 Processor'  "
      ]
     },
     "execution_count": 135,
     "metadata": {},
     "output_type": "execute_result"
    }
   ],
   "source": [
    "df1.head()"
   ]
  },
  {
   "cell_type": "code",
   "execution_count": 136,
   "metadata": {},
   "outputs": [],
   "source": [
    "df1['Discount']=df1['Discount'].apply(lambda x:''.join(x))\n",
    "df1['RamSize']=df1['RamSize'].apply(lambda x:''.join(x))\n",
    "df1['Storage']=df1['Storage'].apply(lambda x:''.join(x))\n",
    "df1['Expandable Storage']=df1['Expandable Storage'].apply(lambda x:''.join(x))\n",
    "df1['RearCamera']=df1['RearCamera'].apply(lambda x:''.join(x))\n",
    "df1['FrontCamera']=df1['FrontCamera'].apply(lambda x:''.join(x))\n",
    "df1['battery']=df1['battery'].apply(lambda x:''.join(x))\n",
    "df1['Screen Size']=df1['Screen Size'].apply(lambda x:''.join(x))"
   ]
  },
  {
   "cell_type": "code",
   "execution_count": 137,
   "metadata": {},
   "outputs": [],
   "source": [
    "regex = r'^\\w+[a-zA-Z0-9\\s]+\\D'\n",
    "df1['Product Name'] = df1['Product Name'].apply(lambda x:re.compile(regex).findall(x))\n"
   ]
  },
  {
   "cell_type": "code",
   "execution_count": 138,
   "metadata": {},
   "outputs": [],
   "source": [
    "df1['Product Name']=df1['Product Name'].apply(lambda x:''.join(x))"
   ]
  },
  {
   "cell_type": "code",
   "execution_count": 139,
   "metadata": {},
   "outputs": [
    {
     "data": {
      "text/plain": [
       "0              REDMI 9i (\n",
       "1              REDMI 9i (\n",
       "2               POCO M3 (\n",
       "3              REDMI 9i (\n",
       "4            realme C20 (\n",
       "              ...        \n",
       "643    realme Narzo 30A (\n",
       "644    realme Narzo 30A (\n",
       "645    realme Narzo 30A (\n",
       "646            realme 7 (\n",
       "647            realme 7 (\n",
       "Name: Product Name, Length: 648, dtype: object"
      ]
     },
     "execution_count": 139,
     "metadata": {},
     "output_type": "execute_result"
    }
   ],
   "source": [
    "df1['Product Name'] "
   ]
  },
  {
   "cell_type": "code",
   "execution_count": 140,
   "metadata": {},
   "outputs": [],
   "source": [
    "df1['Product Name']=df1['Product Name'].apply(lambda x:x.replace('(',''))"
   ]
  },
  {
   "cell_type": "code",
   "execution_count": 141,
   "metadata": {},
   "outputs": [
    {
     "data": {
      "text/plain": [
       "0              REDMI 9i \n",
       "1              REDMI 9i \n",
       "2               POCO M3 \n",
       "3              REDMI 9i \n",
       "4            realme C20 \n",
       "             ...        \n",
       "643    realme Narzo 30A \n",
       "644    realme Narzo 30A \n",
       "645    realme Narzo 30A \n",
       "646            realme 7 \n",
       "647            realme 7 \n",
       "Name: Product Name, Length: 648, dtype: object"
      ]
     },
     "execution_count": 141,
     "metadata": {},
     "output_type": "execute_result"
    }
   ],
   "source": [
    "df1['Product Name']"
   ]
  },
  {
   "cell_type": "code",
   "execution_count": 154,
   "metadata": {
    "scrolled": true
   },
   "outputs": [
    {
     "data": {
      "text/html": [
       "<div>\n",
       "<style scoped>\n",
       "    .dataframe tbody tr th:only-of-type {\n",
       "        vertical-align: middle;\n",
       "    }\n",
       "\n",
       "    .dataframe tbody tr th {\n",
       "        vertical-align: top;\n",
       "    }\n",
       "\n",
       "    .dataframe thead th {\n",
       "        text-align: right;\n",
       "    }\n",
       "</style>\n",
       "<table border=\"1\" class=\"dataframe\">\n",
       "  <thead>\n",
       "    <tr style=\"text-align: right;\">\n",
       "      <th></th>\n",
       "      <th>S.NO</th>\n",
       "      <th>Product Name</th>\n",
       "      <th>OfferPrice</th>\n",
       "      <th>OrignalPrice</th>\n",
       "      <th>Discount</th>\n",
       "      <th>Ratings</th>\n",
       "      <th>Brand</th>\n",
       "      <th>Color</th>\n",
       "      <th>RamSize</th>\n",
       "      <th>Storage</th>\n",
       "      <th>Expandable Storage</th>\n",
       "      <th>Screen Size</th>\n",
       "      <th>Display</th>\n",
       "      <th>RearCamera</th>\n",
       "      <th>FrontCamera</th>\n",
       "      <th>battery</th>\n",
       "      <th>Processor</th>\n",
       "    </tr>\n",
       "  </thead>\n",
       "  <tbody>\n",
       "    <tr>\n",
       "      <th>0</th>\n",
       "      <td>0</td>\n",
       "      <td>REDMI 9i</td>\n",
       "      <td>7999.0</td>\n",
       "      <td>9999.0</td>\n",
       "      <td>20</td>\n",
       "      <td>4.3</td>\n",
       "      <td>REDMI</td>\n",
       "      <td>Midnight Black</td>\n",
       "      <td>4</td>\n",
       "      <td>64</td>\n",
       "      <td>512</td>\n",
       "      <td>16.59</td>\n",
       "      <td>1</td>\n",
       "      <td>13</td>\n",
       "      <td>5</td>\n",
       "      <td>5000</td>\n",
       "      <td>MediaTek Helio G25 Processor</td>\n",
       "    </tr>\n",
       "    <tr>\n",
       "      <th>1</th>\n",
       "      <td>1</td>\n",
       "      <td>REDMI 9i</td>\n",
       "      <td>7999.0</td>\n",
       "      <td>9999.0</td>\n",
       "      <td>20</td>\n",
       "      <td>4.3</td>\n",
       "      <td>REDMI</td>\n",
       "      <td>Sea Blue</td>\n",
       "      <td>4</td>\n",
       "      <td>64</td>\n",
       "      <td>512</td>\n",
       "      <td>16.59</td>\n",
       "      <td>1</td>\n",
       "      <td>13</td>\n",
       "      <td>5</td>\n",
       "      <td>5000</td>\n",
       "      <td>MediaTek Helio G25 Processor</td>\n",
       "    </tr>\n",
       "    <tr>\n",
       "      <th>2</th>\n",
       "      <td>2</td>\n",
       "      <td>POCO M3</td>\n",
       "      <td>10999.0</td>\n",
       "      <td>12999.0</td>\n",
       "      <td>15</td>\n",
       "      <td>4.3</td>\n",
       "      <td>POCO</td>\n",
       "      <td>Cool Blue</td>\n",
       "      <td>6</td>\n",
       "      <td>64</td>\n",
       "      <td>512</td>\n",
       "      <td>16.59</td>\n",
       "      <td>0</td>\n",
       "      <td>48</td>\n",
       "      <td>8</td>\n",
       "      <td>6000</td>\n",
       "      <td>Qualcomm Snapdragon 662 Processor</td>\n",
       "    </tr>\n",
       "    <tr>\n",
       "      <th>3</th>\n",
       "      <td>3</td>\n",
       "      <td>REDMI 9i</td>\n",
       "      <td>7999.0</td>\n",
       "      <td>9999.0</td>\n",
       "      <td>20</td>\n",
       "      <td>4.3</td>\n",
       "      <td>REDMI</td>\n",
       "      <td>Nature Green</td>\n",
       "      <td>4</td>\n",
       "      <td>64</td>\n",
       "      <td>512</td>\n",
       "      <td>16.59</td>\n",
       "      <td>1</td>\n",
       "      <td>13</td>\n",
       "      <td>5</td>\n",
       "      <td>5000</td>\n",
       "      <td>MediaTek Helio G25 Processor</td>\n",
       "    </tr>\n",
       "    <tr>\n",
       "      <th>4</th>\n",
       "      <td>4</td>\n",
       "      <td>realme C20</td>\n",
       "      <td>6799.0</td>\n",
       "      <td>7999.0</td>\n",
       "      <td>15</td>\n",
       "      <td>4.5</td>\n",
       "      <td>realme</td>\n",
       "      <td>Cool Blue</td>\n",
       "      <td>2</td>\n",
       "      <td>32</td>\n",
       "      <td>256</td>\n",
       "      <td>16.51</td>\n",
       "      <td>1</td>\n",
       "      <td>8</td>\n",
       "      <td>5</td>\n",
       "      <td>5000</td>\n",
       "      <td>MediaTek Helio G35 Processor</td>\n",
       "    </tr>\n",
       "    <tr>\n",
       "      <th>...</th>\n",
       "      <td>...</td>\n",
       "      <td>...</td>\n",
       "      <td>...</td>\n",
       "      <td>...</td>\n",
       "      <td>...</td>\n",
       "      <td>...</td>\n",
       "      <td>...</td>\n",
       "      <td>...</td>\n",
       "      <td>...</td>\n",
       "      <td>...</td>\n",
       "      <td>...</td>\n",
       "      <td>...</td>\n",
       "      <td>...</td>\n",
       "      <td>...</td>\n",
       "      <td>...</td>\n",
       "      <td>...</td>\n",
       "      <td>...</td>\n",
       "    </tr>\n",
       "    <tr>\n",
       "      <th>643</th>\n",
       "      <td>643</td>\n",
       "      <td>realme Narzo 30A</td>\n",
       "      <td>9999.0</td>\n",
       "      <td>10999.0</td>\n",
       "      <td>9</td>\n",
       "      <td>4.4</td>\n",
       "      <td>realme</td>\n",
       "      <td>Laser Blue</td>\n",
       "      <td>4</td>\n",
       "      <td>64</td>\n",
       "      <td>256</td>\n",
       "      <td>16.54</td>\n",
       "      <td>1</td>\n",
       "      <td>13</td>\n",
       "      <td>8</td>\n",
       "      <td>6000</td>\n",
       "      <td>MediaTek Helio G85 Processor</td>\n",
       "    </tr>\n",
       "    <tr>\n",
       "      <th>644</th>\n",
       "      <td>644</td>\n",
       "      <td>realme Narzo 30A</td>\n",
       "      <td>9999.0</td>\n",
       "      <td>10999.0</td>\n",
       "      <td>9</td>\n",
       "      <td>4.4</td>\n",
       "      <td>realme</td>\n",
       "      <td>Laser Black</td>\n",
       "      <td>4</td>\n",
       "      <td>64</td>\n",
       "      <td>256</td>\n",
       "      <td>16.54</td>\n",
       "      <td>1</td>\n",
       "      <td>13</td>\n",
       "      <td>8</td>\n",
       "      <td>6000</td>\n",
       "      <td>MediaTek Helio G85 Processor</td>\n",
       "    </tr>\n",
       "    <tr>\n",
       "      <th>645</th>\n",
       "      <td>645</td>\n",
       "      <td>realme Narzo 30A</td>\n",
       "      <td>8999.0</td>\n",
       "      <td>9999.0</td>\n",
       "      <td>10</td>\n",
       "      <td>4.4</td>\n",
       "      <td>realme</td>\n",
       "      <td>Laser Black</td>\n",
       "      <td>3</td>\n",
       "      <td>32</td>\n",
       "      <td>256</td>\n",
       "      <td>16.54</td>\n",
       "      <td>1</td>\n",
       "      <td>13</td>\n",
       "      <td>8</td>\n",
       "      <td>6000</td>\n",
       "      <td>MediaTek Helio G85 Processor</td>\n",
       "    </tr>\n",
       "    <tr>\n",
       "      <th>646</th>\n",
       "      <td>646</td>\n",
       "      <td>realme 7</td>\n",
       "      <td>15499.0</td>\n",
       "      <td>20999.0</td>\n",
       "      <td>26</td>\n",
       "      <td>4.3</td>\n",
       "      <td>realme</td>\n",
       "      <td>Mist Blue</td>\n",
       "      <td>8</td>\n",
       "      <td>128</td>\n",
       "      <td>256</td>\n",
       "      <td>16.51</td>\n",
       "      <td>0</td>\n",
       "      <td>64</td>\n",
       "      <td>16</td>\n",
       "      <td>5000</td>\n",
       "      <td>MediaTek Helio G95 Processor</td>\n",
       "    </tr>\n",
       "    <tr>\n",
       "      <th>647</th>\n",
       "      <td>647</td>\n",
       "      <td>realme 7</td>\n",
       "      <td>13499.0</td>\n",
       "      <td>17999.0</td>\n",
       "      <td>25</td>\n",
       "      <td>4.3</td>\n",
       "      <td>realme</td>\n",
       "      <td>Mist Blue</td>\n",
       "      <td>6</td>\n",
       "      <td>64</td>\n",
       "      <td>256</td>\n",
       "      <td>16.51</td>\n",
       "      <td>0</td>\n",
       "      <td>64</td>\n",
       "      <td>16</td>\n",
       "      <td>5000</td>\n",
       "      <td>MediaTek Helio G95 Processor</td>\n",
       "    </tr>\n",
       "  </tbody>\n",
       "</table>\n",
       "<p>648 rows × 17 columns</p>\n",
       "</div>"
      ],
      "text/plain": [
       "     S.NO       Product Name  OfferPrice  OrignalPrice Discount  Ratings  \\\n",
       "0       0          REDMI 9i       7999.0        9999.0       20      4.3   \n",
       "1       1          REDMI 9i       7999.0        9999.0       20      4.3   \n",
       "2       2           POCO M3      10999.0       12999.0       15      4.3   \n",
       "3       3          REDMI 9i       7999.0        9999.0       20      4.3   \n",
       "4       4        realme C20       6799.0        7999.0       15      4.5   \n",
       "..    ...                ...         ...           ...      ...      ...   \n",
       "643   643  realme Narzo 30A       9999.0       10999.0        9      4.4   \n",
       "644   644  realme Narzo 30A       9999.0       10999.0        9      4.4   \n",
       "645   645  realme Narzo 30A       8999.0        9999.0       10      4.4   \n",
       "646   646          realme 7      15499.0       20999.0       26      4.3   \n",
       "647   647          realme 7      13499.0       17999.0       25      4.3   \n",
       "\n",
       "      Brand           Color RamSize Storage Expandable Storage Screen Size  \\\n",
       "0     REDMI  Midnight Black       4      64                512       16.59   \n",
       "1     REDMI        Sea Blue       4      64                512       16.59   \n",
       "2      POCO       Cool Blue       6      64                512       16.59   \n",
       "3     REDMI    Nature Green       4      64                512       16.59   \n",
       "4    realme       Cool Blue       2      32                256       16.51   \n",
       "..      ...             ...     ...     ...                ...         ...   \n",
       "643  realme      Laser Blue       4      64                256       16.54   \n",
       "644  realme     Laser Black       4      64                256       16.54   \n",
       "645  realme     Laser Black       3      32                256       16.54   \n",
       "646  realme       Mist Blue       8     128                256       16.51   \n",
       "647  realme       Mist Blue       6      64                256       16.51   \n",
       "\n",
       "    Display RearCamera FrontCamera battery                          Processor  \n",
       "0         1         13           5    5000       MediaTek Helio G25 Processor  \n",
       "1         1         13           5    5000       MediaTek Helio G25 Processor  \n",
       "2         0         48           8    6000  Qualcomm Snapdragon 662 Processor  \n",
       "3         1         13           5    5000       MediaTek Helio G25 Processor  \n",
       "4         1          8           5    5000       MediaTek Helio G35 Processor  \n",
       "..      ...        ...         ...     ...                                ...  \n",
       "643       1         13           8    6000       MediaTek Helio G85 Processor  \n",
       "644       1         13           8    6000       MediaTek Helio G85 Processor  \n",
       "645       1         13           8    6000       MediaTek Helio G85 Processor  \n",
       "646       0         64          16    5000       MediaTek Helio G95 Processor  \n",
       "647       0         64          16    5000       MediaTek Helio G95 Processor  \n",
       "\n",
       "[648 rows x 17 columns]"
      ]
     },
     "execution_count": 154,
     "metadata": {},
     "output_type": "execute_result"
    }
   ],
   "source": [
    "df1.rename(columns={'Product Name':'ProdctName'})\n",
    "df1.rename(columns={'Expandable Storage':'ExpandableStorage'})\n",
    "df1.rename(columns={'Screen Size':'ScreenSize'})\n",
    "df1.rename(columns={'Unnamed: 0':'S.NO'})"
   ]
  },
  {
   "cell_type": "code",
   "execution_count": 143,
   "metadata": {},
   "outputs": [
    {
     "data": {
      "text/plain": [
       "0         MediaTek Helio G25 Processor'\n",
       "1         MediaTek Helio G25 Processor'\n",
       "2    Qualcomm Snapdragon 662 Processor'\n",
       "3         MediaTek Helio G25 Processor'\n",
       "4         MediaTek Helio G35 Processor'\n",
       "5         MediaTek Helio G35 Processor'\n",
       "6    Qualcomm Snapdragon 662 Processor'\n",
       "7    Qualcomm Snapdragon 662 Processor'\n",
       "8         Mediatek Helio G35 Processor'\n",
       "9         Mediatek Helio G35 Processor'\n",
       "Name: Processor, dtype: object"
      ]
     },
     "execution_count": 143,
     "metadata": {},
     "output_type": "execute_result"
    }
   ],
   "source": [
    "df1['Processor'][0:10]"
   ]
  },
  {
   "cell_type": "code",
   "execution_count": 144,
   "metadata": {},
   "outputs": [],
   "source": [
    "regex = r'[a-zA-Z0-9\\s]+'\n",
    "df1['Processor'] = df1['Processor'].apply(lambda x:re.compile(regex).findall(x))"
   ]
  },
  {
   "cell_type": "code",
   "execution_count": 145,
   "metadata": {},
   "outputs": [
    {
     "data": {
      "text/plain": [
       "0           [MediaTek Helio G25 Processor]\n",
       "1           [MediaTek Helio G25 Processor]\n",
       "2      [Qualcomm Snapdragon 662 Processor]\n",
       "3           [MediaTek Helio G25 Processor]\n",
       "4           [MediaTek Helio G35 Processor]\n",
       "                      ...                 \n",
       "643         [MediaTek Helio G85 Processor]\n",
       "644         [MediaTek Helio G85 Processor]\n",
       "645         [MediaTek Helio G85 Processor]\n",
       "646         [MediaTek Helio G95 Processor]\n",
       "647         [MediaTek Helio G95 Processor]\n",
       "Name: Processor, Length: 648, dtype: object"
      ]
     },
     "execution_count": 145,
     "metadata": {},
     "output_type": "execute_result"
    }
   ],
   "source": [
    "df1['Processor']"
   ]
  },
  {
   "cell_type": "code",
   "execution_count": 146,
   "metadata": {},
   "outputs": [],
   "source": [
    "df1['Processor']=df1['Processor'].apply(lambda x:''.join(x))"
   ]
  },
  {
   "cell_type": "markdown",
   "metadata": {},
   "source": [
    "### Observations:\n",
    "* OfferPrice and OrignalPrice can be converted into int type because there are no null values or no float values."
   ]
  },
  {
   "cell_type": "code",
   "execution_count": 156,
   "metadata": {},
   "outputs": [],
   "source": [
    "df1['OfferPrice']=df1['OfferPrice'].astype(int)"
   ]
  },
  {
   "cell_type": "code",
   "execution_count": 157,
   "metadata": {},
   "outputs": [],
   "source": [
    "df1['OrignalPrice']=df1['OrignalPrice'].astype(int)"
   ]
  },
  {
   "cell_type": "code",
   "execution_count": null,
   "metadata": {},
   "outputs": [],
   "source": []
  },
  {
   "cell_type": "code",
   "execution_count": 150,
   "metadata": {},
   "outputs": [
    {
     "data": {
      "text/html": [
       "<div>\n",
       "<style scoped>\n",
       "    .dataframe tbody tr th:only-of-type {\n",
       "        vertical-align: middle;\n",
       "    }\n",
       "\n",
       "    .dataframe tbody tr th {\n",
       "        vertical-align: top;\n",
       "    }\n",
       "\n",
       "    .dataframe thead th {\n",
       "        text-align: right;\n",
       "    }\n",
       "</style>\n",
       "<table border=\"1\" class=\"dataframe\">\n",
       "  <thead>\n",
       "    <tr style=\"text-align: right;\">\n",
       "      <th></th>\n",
       "      <th>Unnamed: 0</th>\n",
       "      <th>Product Name</th>\n",
       "      <th>OfferPrice</th>\n",
       "      <th>OrignalPrice</th>\n",
       "      <th>Discount</th>\n",
       "      <th>Ratings</th>\n",
       "      <th>Brand</th>\n",
       "      <th>Color</th>\n",
       "      <th>RamSize</th>\n",
       "      <th>Storage</th>\n",
       "      <th>Expandable Storage</th>\n",
       "      <th>Screen Size</th>\n",
       "      <th>Display</th>\n",
       "      <th>RearCamera</th>\n",
       "      <th>FrontCamera</th>\n",
       "      <th>battery</th>\n",
       "      <th>Processor</th>\n",
       "    </tr>\n",
       "  </thead>\n",
       "  <tbody>\n",
       "    <tr>\n",
       "      <th>0</th>\n",
       "      <td>0</td>\n",
       "      <td>REDMI 9i</td>\n",
       "      <td>7999.0</td>\n",
       "      <td>9999.0</td>\n",
       "      <td>20</td>\n",
       "      <td>4.3</td>\n",
       "      <td>REDMI</td>\n",
       "      <td>Midnight Black</td>\n",
       "      <td>4</td>\n",
       "      <td>64</td>\n",
       "      <td>512</td>\n",
       "      <td>16.59</td>\n",
       "      <td>1</td>\n",
       "      <td>13</td>\n",
       "      <td>5</td>\n",
       "      <td>5000</td>\n",
       "      <td>MediaTek Helio G25 Processor</td>\n",
       "    </tr>\n",
       "    <tr>\n",
       "      <th>1</th>\n",
       "      <td>1</td>\n",
       "      <td>REDMI 9i</td>\n",
       "      <td>7999.0</td>\n",
       "      <td>9999.0</td>\n",
       "      <td>20</td>\n",
       "      <td>4.3</td>\n",
       "      <td>REDMI</td>\n",
       "      <td>Sea Blue</td>\n",
       "      <td>4</td>\n",
       "      <td>64</td>\n",
       "      <td>512</td>\n",
       "      <td>16.59</td>\n",
       "      <td>1</td>\n",
       "      <td>13</td>\n",
       "      <td>5</td>\n",
       "      <td>5000</td>\n",
       "      <td>MediaTek Helio G25 Processor</td>\n",
       "    </tr>\n",
       "    <tr>\n",
       "      <th>2</th>\n",
       "      <td>2</td>\n",
       "      <td>POCO M3</td>\n",
       "      <td>10999.0</td>\n",
       "      <td>12999.0</td>\n",
       "      <td>15</td>\n",
       "      <td>4.3</td>\n",
       "      <td>POCO</td>\n",
       "      <td>Cool Blue</td>\n",
       "      <td>6</td>\n",
       "      <td>64</td>\n",
       "      <td>512</td>\n",
       "      <td>16.59</td>\n",
       "      <td>0</td>\n",
       "      <td>48</td>\n",
       "      <td>8</td>\n",
       "      <td>6000</td>\n",
       "      <td>Qualcomm Snapdragon 662 Processor</td>\n",
       "    </tr>\n",
       "    <tr>\n",
       "      <th>3</th>\n",
       "      <td>3</td>\n",
       "      <td>REDMI 9i</td>\n",
       "      <td>7999.0</td>\n",
       "      <td>9999.0</td>\n",
       "      <td>20</td>\n",
       "      <td>4.3</td>\n",
       "      <td>REDMI</td>\n",
       "      <td>Nature Green</td>\n",
       "      <td>4</td>\n",
       "      <td>64</td>\n",
       "      <td>512</td>\n",
       "      <td>16.59</td>\n",
       "      <td>1</td>\n",
       "      <td>13</td>\n",
       "      <td>5</td>\n",
       "      <td>5000</td>\n",
       "      <td>MediaTek Helio G25 Processor</td>\n",
       "    </tr>\n",
       "    <tr>\n",
       "      <th>4</th>\n",
       "      <td>4</td>\n",
       "      <td>realme C20</td>\n",
       "      <td>6799.0</td>\n",
       "      <td>7999.0</td>\n",
       "      <td>15</td>\n",
       "      <td>4.5</td>\n",
       "      <td>realme</td>\n",
       "      <td>Cool Blue</td>\n",
       "      <td>2</td>\n",
       "      <td>32</td>\n",
       "      <td>256</td>\n",
       "      <td>16.51</td>\n",
       "      <td>1</td>\n",
       "      <td>8</td>\n",
       "      <td>5</td>\n",
       "      <td>5000</td>\n",
       "      <td>MediaTek Helio G35 Processor</td>\n",
       "    </tr>\n",
       "  </tbody>\n",
       "</table>\n",
       "</div>"
      ],
      "text/plain": [
       "   Unnamed: 0 Product Name  OfferPrice  OrignalPrice Discount  Ratings  \\\n",
       "0           0    REDMI 9i       7999.0        9999.0       20      4.3   \n",
       "1           1    REDMI 9i       7999.0        9999.0       20      4.3   \n",
       "2           2     POCO M3      10999.0       12999.0       15      4.3   \n",
       "3           3    REDMI 9i       7999.0        9999.0       20      4.3   \n",
       "4           4  realme C20       6799.0        7999.0       15      4.5   \n",
       "\n",
       "    Brand           Color RamSize Storage Expandable Storage Screen Size  \\\n",
       "0   REDMI  Midnight Black       4      64                512       16.59   \n",
       "1   REDMI        Sea Blue       4      64                512       16.59   \n",
       "2    POCO       Cool Blue       6      64                512       16.59   \n",
       "3   REDMI    Nature Green       4      64                512       16.59   \n",
       "4  realme       Cool Blue       2      32                256       16.51   \n",
       "\n",
       "  Display RearCamera FrontCamera battery                          Processor  \n",
       "0       1         13           5    5000       MediaTek Helio G25 Processor  \n",
       "1       1         13           5    5000       MediaTek Helio G25 Processor  \n",
       "2       0         48           8    6000  Qualcomm Snapdragon 662 Processor  \n",
       "3       1         13           5    5000       MediaTek Helio G25 Processor  \n",
       "4       1          8           5    5000       MediaTek Helio G35 Processor  "
      ]
     },
     "execution_count": 150,
     "metadata": {},
     "output_type": "execute_result"
    }
   ],
   "source": [
    "df1.head()"
   ]
  },
  {
   "cell_type": "code",
   "execution_count": 151,
   "metadata": {},
   "outputs": [
    {
     "name": "stdout",
     "output_type": "stream",
     "text": [
      "<class 'pandas.core.frame.DataFrame'>\n",
      "RangeIndex: 648 entries, 0 to 647\n",
      "Data columns (total 17 columns):\n",
      " #   Column              Non-Null Count  Dtype  \n",
      "---  ------              --------------  -----  \n",
      " 0   Unnamed: 0          648 non-null    int64  \n",
      " 1   Product Name        648 non-null    object \n",
      " 2   OfferPrice          648 non-null    float64\n",
      " 3   OrignalPrice        648 non-null    float64\n",
      " 4   Discount            648 non-null    object \n",
      " 5   Ratings             648 non-null    float64\n",
      " 6   Brand               648 non-null    object \n",
      " 7   Color               648 non-null    object \n",
      " 8   RamSize             648 non-null    object \n",
      " 9   Storage             648 non-null    object \n",
      " 10  Expandable Storage  648 non-null    object \n",
      " 11  Screen Size         648 non-null    object \n",
      " 12  Display             648 non-null    object \n",
      " 13  RearCamera          648 non-null    object \n",
      " 14  FrontCamera         648 non-null    object \n",
      " 15  battery             648 non-null    object \n",
      " 16  Processor           648 non-null    object \n",
      "dtypes: float64(3), int64(1), object(13)\n",
      "memory usage: 86.2+ KB\n"
     ]
    }
   ],
   "source": [
    "df1.info()"
   ]
  },
  {
   "cell_type": "markdown",
   "metadata": {},
   "source": [
    "# Observations:\n",
    "### We observe that all the columns of our data having object datatype. We have to change some of them into numeric datatypes.\n",
    "\n",
    "* Columns to be changed: Discount,RamSize,Storage,Expandable Storage,Screen Size,Display,RearCamera,FrontCamera,battery."
   ]
  },
  {
   "cell_type": "code",
   "execution_count": 158,
   "metadata": {},
   "outputs": [],
   "source": [
    "df1['Discount']=df1['Discount'].astype(int)"
   ]
  },
  {
   "cell_type": "code",
   "execution_count": 159,
   "metadata": {},
   "outputs": [],
   "source": [
    "df1['RamSize']=df1['RamSize'].astype(int)"
   ]
  },
  {
   "cell_type": "code",
   "execution_count": 160,
   "metadata": {},
   "outputs": [],
   "source": [
    "df1['Storage']=df1['Storage'].astype(int)"
   ]
  },
  {
   "cell_type": "code",
   "execution_count": 161,
   "metadata": {},
   "outputs": [],
   "source": [
    "df1['Expandable Storage']=df1['Expandable Storage'].astype(int)"
   ]
  },
  {
   "cell_type": "code",
   "execution_count": 162,
   "metadata": {},
   "outputs": [],
   "source": [
    "df1['Screen Size']=df1['Screen Size'].astype(float)"
   ]
  },
  {
   "cell_type": "code",
   "execution_count": 163,
   "metadata": {},
   "outputs": [],
   "source": [
    "df1['Display']=df1['Display'].astype(int)"
   ]
  },
  {
   "cell_type": "code",
   "execution_count": 164,
   "metadata": {},
   "outputs": [],
   "source": [
    "df1['RearCamera']=df1['RearCamera'].astype(int)"
   ]
  },
  {
   "cell_type": "code",
   "execution_count": 165,
   "metadata": {},
   "outputs": [],
   "source": [
    "df1['FrontCamera']=df1['FrontCamera'].astype(int)"
   ]
  },
  {
   "cell_type": "code",
   "execution_count": 166,
   "metadata": {},
   "outputs": [],
   "source": [
    "df1['battery']=df1['battery'].astype(int)"
   ]
  },
  {
   "cell_type": "code",
   "execution_count": 167,
   "metadata": {},
   "outputs": [
    {
     "data": {
      "text/html": [
       "<div>\n",
       "<style scoped>\n",
       "    .dataframe tbody tr th:only-of-type {\n",
       "        vertical-align: middle;\n",
       "    }\n",
       "\n",
       "    .dataframe tbody tr th {\n",
       "        vertical-align: top;\n",
       "    }\n",
       "\n",
       "    .dataframe thead th {\n",
       "        text-align: right;\n",
       "    }\n",
       "</style>\n",
       "<table border=\"1\" class=\"dataframe\">\n",
       "  <thead>\n",
       "    <tr style=\"text-align: right;\">\n",
       "      <th></th>\n",
       "      <th>Unnamed: 0</th>\n",
       "      <th>Product Name</th>\n",
       "      <th>OfferPrice</th>\n",
       "      <th>OrignalPrice</th>\n",
       "      <th>Discount</th>\n",
       "      <th>Ratings</th>\n",
       "      <th>Brand</th>\n",
       "      <th>Color</th>\n",
       "      <th>RamSize</th>\n",
       "      <th>Storage</th>\n",
       "      <th>Expandable Storage</th>\n",
       "      <th>Screen Size</th>\n",
       "      <th>Display</th>\n",
       "      <th>RearCamera</th>\n",
       "      <th>FrontCamera</th>\n",
       "      <th>battery</th>\n",
       "      <th>Processor</th>\n",
       "    </tr>\n",
       "  </thead>\n",
       "  <tbody>\n",
       "    <tr>\n",
       "      <th>0</th>\n",
       "      <td>0</td>\n",
       "      <td>REDMI 9i</td>\n",
       "      <td>7999</td>\n",
       "      <td>9999</td>\n",
       "      <td>20</td>\n",
       "      <td>4.3</td>\n",
       "      <td>REDMI</td>\n",
       "      <td>Midnight Black</td>\n",
       "      <td>4</td>\n",
       "      <td>64</td>\n",
       "      <td>512</td>\n",
       "      <td>16.59</td>\n",
       "      <td>1</td>\n",
       "      <td>13</td>\n",
       "      <td>5</td>\n",
       "      <td>5000</td>\n",
       "      <td>MediaTek Helio G25 Processor</td>\n",
       "    </tr>\n",
       "    <tr>\n",
       "      <th>1</th>\n",
       "      <td>1</td>\n",
       "      <td>REDMI 9i</td>\n",
       "      <td>7999</td>\n",
       "      <td>9999</td>\n",
       "      <td>20</td>\n",
       "      <td>4.3</td>\n",
       "      <td>REDMI</td>\n",
       "      <td>Sea Blue</td>\n",
       "      <td>4</td>\n",
       "      <td>64</td>\n",
       "      <td>512</td>\n",
       "      <td>16.59</td>\n",
       "      <td>1</td>\n",
       "      <td>13</td>\n",
       "      <td>5</td>\n",
       "      <td>5000</td>\n",
       "      <td>MediaTek Helio G25 Processor</td>\n",
       "    </tr>\n",
       "    <tr>\n",
       "      <th>2</th>\n",
       "      <td>2</td>\n",
       "      <td>POCO M3</td>\n",
       "      <td>10999</td>\n",
       "      <td>12999</td>\n",
       "      <td>15</td>\n",
       "      <td>4.3</td>\n",
       "      <td>POCO</td>\n",
       "      <td>Cool Blue</td>\n",
       "      <td>6</td>\n",
       "      <td>64</td>\n",
       "      <td>512</td>\n",
       "      <td>16.59</td>\n",
       "      <td>0</td>\n",
       "      <td>48</td>\n",
       "      <td>8</td>\n",
       "      <td>6000</td>\n",
       "      <td>Qualcomm Snapdragon 662 Processor</td>\n",
       "    </tr>\n",
       "    <tr>\n",
       "      <th>3</th>\n",
       "      <td>3</td>\n",
       "      <td>REDMI 9i</td>\n",
       "      <td>7999</td>\n",
       "      <td>9999</td>\n",
       "      <td>20</td>\n",
       "      <td>4.3</td>\n",
       "      <td>REDMI</td>\n",
       "      <td>Nature Green</td>\n",
       "      <td>4</td>\n",
       "      <td>64</td>\n",
       "      <td>512</td>\n",
       "      <td>16.59</td>\n",
       "      <td>1</td>\n",
       "      <td>13</td>\n",
       "      <td>5</td>\n",
       "      <td>5000</td>\n",
       "      <td>MediaTek Helio G25 Processor</td>\n",
       "    </tr>\n",
       "    <tr>\n",
       "      <th>4</th>\n",
       "      <td>4</td>\n",
       "      <td>realme C20</td>\n",
       "      <td>6799</td>\n",
       "      <td>7999</td>\n",
       "      <td>15</td>\n",
       "      <td>4.5</td>\n",
       "      <td>realme</td>\n",
       "      <td>Cool Blue</td>\n",
       "      <td>2</td>\n",
       "      <td>32</td>\n",
       "      <td>256</td>\n",
       "      <td>16.51</td>\n",
       "      <td>1</td>\n",
       "      <td>8</td>\n",
       "      <td>5</td>\n",
       "      <td>5000</td>\n",
       "      <td>MediaTek Helio G35 Processor</td>\n",
       "    </tr>\n",
       "    <tr>\n",
       "      <th>...</th>\n",
       "      <td>...</td>\n",
       "      <td>...</td>\n",
       "      <td>...</td>\n",
       "      <td>...</td>\n",
       "      <td>...</td>\n",
       "      <td>...</td>\n",
       "      <td>...</td>\n",
       "      <td>...</td>\n",
       "      <td>...</td>\n",
       "      <td>...</td>\n",
       "      <td>...</td>\n",
       "      <td>...</td>\n",
       "      <td>...</td>\n",
       "      <td>...</td>\n",
       "      <td>...</td>\n",
       "      <td>...</td>\n",
       "      <td>...</td>\n",
       "    </tr>\n",
       "    <tr>\n",
       "      <th>643</th>\n",
       "      <td>643</td>\n",
       "      <td>realme Narzo 30A</td>\n",
       "      <td>9999</td>\n",
       "      <td>10999</td>\n",
       "      <td>9</td>\n",
       "      <td>4.4</td>\n",
       "      <td>realme</td>\n",
       "      <td>Laser Blue</td>\n",
       "      <td>4</td>\n",
       "      <td>64</td>\n",
       "      <td>256</td>\n",
       "      <td>16.54</td>\n",
       "      <td>1</td>\n",
       "      <td>13</td>\n",
       "      <td>8</td>\n",
       "      <td>6000</td>\n",
       "      <td>MediaTek Helio G85 Processor</td>\n",
       "    </tr>\n",
       "    <tr>\n",
       "      <th>644</th>\n",
       "      <td>644</td>\n",
       "      <td>realme Narzo 30A</td>\n",
       "      <td>9999</td>\n",
       "      <td>10999</td>\n",
       "      <td>9</td>\n",
       "      <td>4.4</td>\n",
       "      <td>realme</td>\n",
       "      <td>Laser Black</td>\n",
       "      <td>4</td>\n",
       "      <td>64</td>\n",
       "      <td>256</td>\n",
       "      <td>16.54</td>\n",
       "      <td>1</td>\n",
       "      <td>13</td>\n",
       "      <td>8</td>\n",
       "      <td>6000</td>\n",
       "      <td>MediaTek Helio G85 Processor</td>\n",
       "    </tr>\n",
       "    <tr>\n",
       "      <th>645</th>\n",
       "      <td>645</td>\n",
       "      <td>realme Narzo 30A</td>\n",
       "      <td>8999</td>\n",
       "      <td>9999</td>\n",
       "      <td>10</td>\n",
       "      <td>4.4</td>\n",
       "      <td>realme</td>\n",
       "      <td>Laser Black</td>\n",
       "      <td>3</td>\n",
       "      <td>32</td>\n",
       "      <td>256</td>\n",
       "      <td>16.54</td>\n",
       "      <td>1</td>\n",
       "      <td>13</td>\n",
       "      <td>8</td>\n",
       "      <td>6000</td>\n",
       "      <td>MediaTek Helio G85 Processor</td>\n",
       "    </tr>\n",
       "    <tr>\n",
       "      <th>646</th>\n",
       "      <td>646</td>\n",
       "      <td>realme 7</td>\n",
       "      <td>15499</td>\n",
       "      <td>20999</td>\n",
       "      <td>26</td>\n",
       "      <td>4.3</td>\n",
       "      <td>realme</td>\n",
       "      <td>Mist Blue</td>\n",
       "      <td>8</td>\n",
       "      <td>128</td>\n",
       "      <td>256</td>\n",
       "      <td>16.51</td>\n",
       "      <td>0</td>\n",
       "      <td>64</td>\n",
       "      <td>16</td>\n",
       "      <td>5000</td>\n",
       "      <td>MediaTek Helio G95 Processor</td>\n",
       "    </tr>\n",
       "    <tr>\n",
       "      <th>647</th>\n",
       "      <td>647</td>\n",
       "      <td>realme 7</td>\n",
       "      <td>13499</td>\n",
       "      <td>17999</td>\n",
       "      <td>25</td>\n",
       "      <td>4.3</td>\n",
       "      <td>realme</td>\n",
       "      <td>Mist Blue</td>\n",
       "      <td>6</td>\n",
       "      <td>64</td>\n",
       "      <td>256</td>\n",
       "      <td>16.51</td>\n",
       "      <td>0</td>\n",
       "      <td>64</td>\n",
       "      <td>16</td>\n",
       "      <td>5000</td>\n",
       "      <td>MediaTek Helio G95 Processor</td>\n",
       "    </tr>\n",
       "  </tbody>\n",
       "</table>\n",
       "<p>648 rows × 17 columns</p>\n",
       "</div>"
      ],
      "text/plain": [
       "     Unnamed: 0       Product Name  OfferPrice  OrignalPrice  Discount  \\\n",
       "0             0          REDMI 9i         7999          9999        20   \n",
       "1             1          REDMI 9i         7999          9999        20   \n",
       "2             2           POCO M3        10999         12999        15   \n",
       "3             3          REDMI 9i         7999          9999        20   \n",
       "4             4        realme C20         6799          7999        15   \n",
       "..          ...                ...         ...           ...       ...   \n",
       "643         643  realme Narzo 30A         9999         10999         9   \n",
       "644         644  realme Narzo 30A         9999         10999         9   \n",
       "645         645  realme Narzo 30A         8999          9999        10   \n",
       "646         646          realme 7        15499         20999        26   \n",
       "647         647          realme 7        13499         17999        25   \n",
       "\n",
       "     Ratings   Brand           Color  RamSize  Storage  Expandable Storage  \\\n",
       "0        4.3   REDMI  Midnight Black        4       64                 512   \n",
       "1        4.3   REDMI        Sea Blue        4       64                 512   \n",
       "2        4.3    POCO       Cool Blue        6       64                 512   \n",
       "3        4.3   REDMI    Nature Green        4       64                 512   \n",
       "4        4.5  realme       Cool Blue        2       32                 256   \n",
       "..       ...     ...             ...      ...      ...                 ...   \n",
       "643      4.4  realme      Laser Blue        4       64                 256   \n",
       "644      4.4  realme     Laser Black        4       64                 256   \n",
       "645      4.4  realme     Laser Black        3       32                 256   \n",
       "646      4.3  realme       Mist Blue        8      128                 256   \n",
       "647      4.3  realme       Mist Blue        6       64                 256   \n",
       "\n",
       "     Screen Size  Display  RearCamera  FrontCamera  battery  \\\n",
       "0          16.59        1          13            5     5000   \n",
       "1          16.59        1          13            5     5000   \n",
       "2          16.59        0          48            8     6000   \n",
       "3          16.59        1          13            5     5000   \n",
       "4          16.51        1           8            5     5000   \n",
       "..           ...      ...         ...          ...      ...   \n",
       "643        16.54        1          13            8     6000   \n",
       "644        16.54        1          13            8     6000   \n",
       "645        16.54        1          13            8     6000   \n",
       "646        16.51        0          64           16     5000   \n",
       "647        16.51        0          64           16     5000   \n",
       "\n",
       "                             Processor  \n",
       "0         MediaTek Helio G25 Processor  \n",
       "1         MediaTek Helio G25 Processor  \n",
       "2    Qualcomm Snapdragon 662 Processor  \n",
       "3         MediaTek Helio G25 Processor  \n",
       "4         MediaTek Helio G35 Processor  \n",
       "..                                 ...  \n",
       "643       MediaTek Helio G85 Processor  \n",
       "644       MediaTek Helio G85 Processor  \n",
       "645       MediaTek Helio G85 Processor  \n",
       "646       MediaTek Helio G95 Processor  \n",
       "647       MediaTek Helio G95 Processor  \n",
       "\n",
       "[648 rows x 17 columns]"
      ]
     },
     "execution_count": 167,
     "metadata": {},
     "output_type": "execute_result"
    }
   ],
   "source": [
    "df1"
   ]
  },
  {
   "cell_type": "code",
   "execution_count": 168,
   "metadata": {
    "scrolled": true
   },
   "outputs": [
    {
     "name": "stdout",
     "output_type": "stream",
     "text": [
      "<class 'pandas.core.frame.DataFrame'>\n",
      "RangeIndex: 648 entries, 0 to 647\n",
      "Data columns (total 17 columns):\n",
      " #   Column              Non-Null Count  Dtype  \n",
      "---  ------              --------------  -----  \n",
      " 0   Unnamed: 0          648 non-null    int64  \n",
      " 1   Product Name        648 non-null    object \n",
      " 2   OfferPrice          648 non-null    int32  \n",
      " 3   OrignalPrice        648 non-null    int32  \n",
      " 4   Discount            648 non-null    int32  \n",
      " 5   Ratings             648 non-null    float64\n",
      " 6   Brand               648 non-null    object \n",
      " 7   Color               648 non-null    object \n",
      " 8   RamSize             648 non-null    int32  \n",
      " 9   Storage             648 non-null    int32  \n",
      " 10  Expandable Storage  648 non-null    int32  \n",
      " 11  Screen Size         648 non-null    float64\n",
      " 12  Display             648 non-null    int32  \n",
      " 13  RearCamera          648 non-null    int32  \n",
      " 14  FrontCamera         648 non-null    int32  \n",
      " 15  battery             648 non-null    int32  \n",
      " 16  Processor           648 non-null    object \n",
      "dtypes: float64(2), int32(10), int64(1), object(4)\n",
      "memory usage: 60.9+ KB\n"
     ]
    }
   ],
   "source": [
    "df1.info()"
   ]
  },
  {
   "cell_type": "code",
   "execution_count": 169,
   "metadata": {},
   "outputs": [
    {
     "data": {
      "text/html": [
       "<div>\n",
       "<style scoped>\n",
       "    .dataframe tbody tr th:only-of-type {\n",
       "        vertical-align: middle;\n",
       "    }\n",
       "\n",
       "    .dataframe tbody tr th {\n",
       "        vertical-align: top;\n",
       "    }\n",
       "\n",
       "    .dataframe thead th {\n",
       "        text-align: right;\n",
       "    }\n",
       "</style>\n",
       "<table border=\"1\" class=\"dataframe\">\n",
       "  <thead>\n",
       "    <tr style=\"text-align: right;\">\n",
       "      <th></th>\n",
       "      <th>Unnamed: 0</th>\n",
       "      <th>Product Name</th>\n",
       "      <th>OfferPrice</th>\n",
       "      <th>OrignalPrice</th>\n",
       "      <th>Discount</th>\n",
       "      <th>Ratings</th>\n",
       "      <th>Brand</th>\n",
       "      <th>Color</th>\n",
       "      <th>RamSize</th>\n",
       "      <th>Storage</th>\n",
       "      <th>Expandable Storage</th>\n",
       "      <th>Screen Size</th>\n",
       "      <th>Display</th>\n",
       "      <th>RearCamera</th>\n",
       "      <th>FrontCamera</th>\n",
       "      <th>battery</th>\n",
       "      <th>Processor</th>\n",
       "    </tr>\n",
       "  </thead>\n",
       "  <tbody>\n",
       "    <tr>\n",
       "      <th>0</th>\n",
       "      <td>0</td>\n",
       "      <td>REDMI 9i</td>\n",
       "      <td>7999</td>\n",
       "      <td>9999</td>\n",
       "      <td>20</td>\n",
       "      <td>4.3</td>\n",
       "      <td>REDMI</td>\n",
       "      <td>Midnight Black</td>\n",
       "      <td>4</td>\n",
       "      <td>64</td>\n",
       "      <td>512</td>\n",
       "      <td>16.59</td>\n",
       "      <td>1</td>\n",
       "      <td>13</td>\n",
       "      <td>5</td>\n",
       "      <td>5000</td>\n",
       "      <td>MediaTek Helio G25 Processor</td>\n",
       "    </tr>\n",
       "    <tr>\n",
       "      <th>1</th>\n",
       "      <td>1</td>\n",
       "      <td>REDMI 9i</td>\n",
       "      <td>7999</td>\n",
       "      <td>9999</td>\n",
       "      <td>20</td>\n",
       "      <td>4.3</td>\n",
       "      <td>REDMI</td>\n",
       "      <td>Sea Blue</td>\n",
       "      <td>4</td>\n",
       "      <td>64</td>\n",
       "      <td>512</td>\n",
       "      <td>16.59</td>\n",
       "      <td>1</td>\n",
       "      <td>13</td>\n",
       "      <td>5</td>\n",
       "      <td>5000</td>\n",
       "      <td>MediaTek Helio G25 Processor</td>\n",
       "    </tr>\n",
       "    <tr>\n",
       "      <th>2</th>\n",
       "      <td>2</td>\n",
       "      <td>POCO M3</td>\n",
       "      <td>10999</td>\n",
       "      <td>12999</td>\n",
       "      <td>15</td>\n",
       "      <td>4.3</td>\n",
       "      <td>POCO</td>\n",
       "      <td>Cool Blue</td>\n",
       "      <td>6</td>\n",
       "      <td>64</td>\n",
       "      <td>512</td>\n",
       "      <td>16.59</td>\n",
       "      <td>0</td>\n",
       "      <td>48</td>\n",
       "      <td>8</td>\n",
       "      <td>6000</td>\n",
       "      <td>Qualcomm Snapdragon 662 Processor</td>\n",
       "    </tr>\n",
       "    <tr>\n",
       "      <th>3</th>\n",
       "      <td>3</td>\n",
       "      <td>REDMI 9i</td>\n",
       "      <td>7999</td>\n",
       "      <td>9999</td>\n",
       "      <td>20</td>\n",
       "      <td>4.3</td>\n",
       "      <td>REDMI</td>\n",
       "      <td>Nature Green</td>\n",
       "      <td>4</td>\n",
       "      <td>64</td>\n",
       "      <td>512</td>\n",
       "      <td>16.59</td>\n",
       "      <td>1</td>\n",
       "      <td>13</td>\n",
       "      <td>5</td>\n",
       "      <td>5000</td>\n",
       "      <td>MediaTek Helio G25 Processor</td>\n",
       "    </tr>\n",
       "    <tr>\n",
       "      <th>4</th>\n",
       "      <td>4</td>\n",
       "      <td>realme C20</td>\n",
       "      <td>6799</td>\n",
       "      <td>7999</td>\n",
       "      <td>15</td>\n",
       "      <td>4.5</td>\n",
       "      <td>realme</td>\n",
       "      <td>Cool Blue</td>\n",
       "      <td>2</td>\n",
       "      <td>32</td>\n",
       "      <td>256</td>\n",
       "      <td>16.51</td>\n",
       "      <td>1</td>\n",
       "      <td>8</td>\n",
       "      <td>5</td>\n",
       "      <td>5000</td>\n",
       "      <td>MediaTek Helio G35 Processor</td>\n",
       "    </tr>\n",
       "  </tbody>\n",
       "</table>\n",
       "</div>"
      ],
      "text/plain": [
       "   Unnamed: 0 Product Name  OfferPrice  OrignalPrice  Discount  Ratings  \\\n",
       "0           0    REDMI 9i         7999          9999        20      4.3   \n",
       "1           1    REDMI 9i         7999          9999        20      4.3   \n",
       "2           2     POCO M3        10999         12999        15      4.3   \n",
       "3           3    REDMI 9i         7999          9999        20      4.3   \n",
       "4           4  realme C20         6799          7999        15      4.5   \n",
       "\n",
       "    Brand           Color  RamSize  Storage  Expandable Storage  Screen Size  \\\n",
       "0   REDMI  Midnight Black        4       64                 512        16.59   \n",
       "1   REDMI        Sea Blue        4       64                 512        16.59   \n",
       "2    POCO       Cool Blue        6       64                 512        16.59   \n",
       "3   REDMI    Nature Green        4       64                 512        16.59   \n",
       "4  realme       Cool Blue        2       32                 256        16.51   \n",
       "\n",
       "   Display  RearCamera  FrontCamera  battery  \\\n",
       "0        1          13            5     5000   \n",
       "1        1          13            5     5000   \n",
       "2        0          48            8     6000   \n",
       "3        1          13            5     5000   \n",
       "4        1           8            5     5000   \n",
       "\n",
       "                           Processor  \n",
       "0       MediaTek Helio G25 Processor  \n",
       "1       MediaTek Helio G25 Processor  \n",
       "2  Qualcomm Snapdragon 662 Processor  \n",
       "3       MediaTek Helio G25 Processor  \n",
       "4       MediaTek Helio G35 Processor  "
      ]
     },
     "execution_count": 169,
     "metadata": {},
     "output_type": "execute_result"
    }
   ],
   "source": [
    "df1.head()"
   ]
  },
  {
   "cell_type": "code",
   "execution_count": 170,
   "metadata": {},
   "outputs": [],
   "source": [
    "df1.to_csv('MobileData_Clean.csv')"
   ]
  },
  {
   "cell_type": "code",
   "execution_count": null,
   "metadata": {},
   "outputs": [],
   "source": []
  }
 ],
 "metadata": {
  "kernelspec": {
   "display_name": "Python 3",
   "language": "python",
   "name": "python3"
  },
  "language_info": {
   "codemirror_mode": {
    "name": "ipython",
    "version": 3
   },
   "file_extension": ".py",
   "mimetype": "text/x-python",
   "name": "python",
   "nbconvert_exporter": "python",
   "pygments_lexer": "ipython3",
   "version": "3.8.5"
  }
 },
 "nbformat": 4,
 "nbformat_minor": 4
}
